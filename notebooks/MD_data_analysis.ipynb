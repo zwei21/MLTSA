{
 "cells": [
  {
   "cell_type": "markdown",
   "metadata": {
    "collapsed": false
   },
   "source": [
    "# Molecular Dynamics Analysis tool for MLTSA\n"
   ]
  },
  {
   "cell_type": "markdown",
   "metadata": {
    "collapsed": false
   },
   "source": [
    "MLTSA has a package called MD_DATA which contains different modules for Molecular Dyanmics trajectories analysis and labeling for classification of outcomes similar to the IN/OUT states of the ligand unbinding.\n"
   ]
  },
  {
   "cell_type": "code",
   "execution_count": 1,
   "metadata": {
    "collapsed": false,
    "pycharm": {
     "name": "#%%\n"
    }
   },
   "outputs": [
    {
     "name": "stdout",
     "output_type": "stream",
     "text": [
      "Setting up MD analyzer\n"
     ]
    },
    {
     "ename": "TypeError",
     "evalue": "label_simulations() got an unexpected keyword argument 'plotting'",
     "output_type": "error",
     "traceback": [
      "\u001b[0;31m---------------------------------------------------------------------------\u001b[0m",
      "\u001b[0;31mTypeError\u001b[0m                                 Traceback (most recent call last)",
      "\u001b[1;32m/home/ucapzwe/generate_data/MLTSA_Dev/MLTSA/notebooks/MD_data_analysis.ipynb Cell 3'\u001b[0m in \u001b[0;36m<module>\u001b[0;34m\u001b[0m\n\u001b[1;32m     <a href='vscode-notebook-cell://ssh-remote%2Bcurie_tunel/home/ucapzwe/generate_data/MLTSA_Dev/MLTSA/notebooks/MD_data_analysis.ipynb#ch0000002vscode-remote?line=10'>11</a>\u001b[0m top_path \u001b[39m=\u001b[39m \u001b[39m\"\u001b[39m\u001b[39mstring_cropped.pdb\u001b[39m\u001b[39m\"\u001b[39m\n\u001b[1;32m     <a href='vscode-notebook-cell://ssh-remote%2Bcurie_tunel/home/ucapzwe/generate_data/MLTSA_Dev/MLTSA/notebooks/MD_data_analysis.ipynb#ch0000002vscode-remote?line=12'>13</a>\u001b[0m analyzer \u001b[39m=\u001b[39m MDs()\n\u001b[0;32m---> <a href='vscode-notebook-cell://ssh-remote%2Bcurie_tunel/home/ucapzwe/generate_data/MLTSA_Dev/MLTSA/notebooks/MD_data_analysis.ipynb#ch0000002vscode-remote?line=13'>14</a>\u001b[0m labels \u001b[39m=\u001b[39m analyzer\u001b[39m.\u001b[39;49mlabel_simulations(top_path,\n\u001b[1;32m     <a href='vscode-notebook-cell://ssh-remote%2Bcurie_tunel/home/ucapzwe/generate_data/MLTSA_Dev/MLTSA/notebooks/MD_data_analysis.ipynb#ch0000002vscode-remote?line=14'>15</a>\u001b[0m                                     dcd_path,\n\u001b[1;32m     <a href='vscode-notebook-cell://ssh-remote%2Bcurie_tunel/home/ucapzwe/generate_data/MLTSA_Dev/MLTSA/notebooks/MD_data_analysis.ipynb#ch0000002vscode-remote?line=15'>16</a>\u001b[0m                                     [[\u001b[39m\"\u001b[39;49m\u001b[39mindex 3824\u001b[39;49m\u001b[39m\"\u001b[39;49m, \u001b[39m\"\u001b[39;49m\u001b[39mindex 1\u001b[39;49m\u001b[39m\"\u001b[39;49m],\n\u001b[1;32m     <a href='vscode-notebook-cell://ssh-remote%2Bcurie_tunel/home/ucapzwe/generate_data/MLTSA_Dev/MLTSA/notebooks/MD_data_analysis.ipynb#ch0000002vscode-remote?line=16'>17</a>\u001b[0m                                      [\u001b[39m\"\u001b[39;49m\u001b[39mindex 4251\u001b[39;49m\u001b[39m\"\u001b[39;49m, \u001b[39m\"\u001b[39;49m\u001b[39mindex 6\u001b[39;49m\u001b[39m\"\u001b[39;49m]],\n\u001b[1;32m     <a href='vscode-notebook-cell://ssh-remote%2Bcurie_tunel/home/ucapzwe/generate_data/MLTSA_Dev/MLTSA/notebooks/MD_data_analysis.ipynb#ch0000002vscode-remote?line=17'>18</a>\u001b[0m                                     \u001b[39m10\u001b[39;49m, \u001b[39m5\u001b[39;49m, plotting\u001b[39m=\u001b[39;49m\u001b[39mTrue\u001b[39;49;00m)\n\u001b[1;32m     <a href='vscode-notebook-cell://ssh-remote%2Bcurie_tunel/home/ucapzwe/generate_data/MLTSA_Dev/MLTSA/notebooks/MD_data_analysis.ipynb#ch0000002vscode-remote?line=19'>20</a>\u001b[0m \u001b[39mprint\u001b[39m(labels)\n",
      "\u001b[0;31mTypeError\u001b[0m: label_simulations() got an unexpected keyword argument 'plotting'"
     ]
    }
   ],
   "source": [
    "import numpy as np\n",
    "import matplotlib.pyplot as plt\n",
    "from MLTSA import datasets\n",
    "# Restructured import\n",
    "\n",
    "MDs = datasets.MDs\n",
    "CVs = datasets.CVs \n",
    "\n",
    "\"\"\" Testing the labelling system \"\"\"\n",
    "dcd_path = [\"test.dcd\"] #list containing the dcd files\n",
    "top_path = \"string_cropped.pdb\"\n",
    "\n",
    "analyzer = MDs()\n",
    "labels = analyzer.label_simulations(top_path,\n",
    "                                    dcd_path,\n",
    "                                    [[\"index 3824\", \"index 1\"],\n",
    "                                     [\"index 4251\", \"index 6\"]],\n",
    "                                    10, 5, plotting=True)\n",
    "\n",
    "print(labels)"
   ]
  },
  {
   "cell_type": "code",
   "execution_count": null,
   "metadata": {
    "collapsed": false,
    "pycharm": {
     "name": "#%%\n"
    }
   },
   "outputs": [],
   "source": [
    "CV_system = CVs(top_path)\n",
    "CV_system.define_variables(\"bubble_ligand\")\n",
    "\n",
    "analyzer = MDs()\n",
    "CVs_from_bubble = analyzer.calculate_CVs(CV_system, dcd_path)"
   ]
  },
  {
   "cell_type": "code",
   "execution_count": null,
   "metadata": {
    "collapsed": false,
    "pycharm": {
     "name": "#%%\n"
    }
   },
   "outputs": [],
   "source": [
    "traj = 0 #We only have 1 traj\n",
    "CV = 1 #Select a CV to plot\n",
    "\n",
    "dists = np.array(CVs_from_bubble[traj]).T\n",
    "\n",
    "plt.plot(dists[CV])\n",
    "plt.show()\n"
   ]
  },
  {
   "cell_type": "code",
   "execution_count": null,
   "metadata": {
    "collapsed": false,
    "pycharm": {
     "name": "#%%\n"
    }
   },
   "outputs": [],
   "source": [
    "\n"
   ]
  },
  {
   "cell_type": "code",
   "execution_count": null,
   "metadata": {
    "collapsed": false,
    "pycharm": {
     "name": "#%%\n"
    }
   },
   "outputs": [],
   "source": []
  },
  {
   "cell_type": "code",
   "execution_count": null,
   "metadata": {
    "collapsed": false,
    "pycharm": {
     "name": "#%%\n"
    }
   },
   "outputs": [],
   "source": []
  },
  {
   "cell_type": "code",
   "execution_count": null,
   "metadata": {
    "collapsed": false,
    "pycharm": {
     "name": "#%%\n"
    }
   },
   "outputs": [],
   "source": []
  }
 ],
 "metadata": {
  "kernelspec": {
   "display_name": "Python 3.8.10 64-bit",
   "language": "python",
   "name": "python3"
  },
  "language_info": {
   "codemirror_mode": {
    "name": "ipython",
    "version": 3
   },
   "file_extension": ".py",
   "mimetype": "text/x-python",
   "name": "python",
   "nbconvert_exporter": "python",
   "pygments_lexer": "ipython3",
   "version": "3.8.10"
  },
  "vscode": {
   "interpreter": {
    "hash": "31f2aee4e71d21fbe5cf8b01ff0e069b9275f58929596ceb00d14d90e3e16cd6"
   }
  }
 },
 "nbformat": 4,
 "nbformat_minor": 0
}
