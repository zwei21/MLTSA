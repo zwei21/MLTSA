{
 "cells": [
  {
   "cell_type": "markdown",
   "metadata": {
    "pycharm": {
     "metadata": false
    }
   },
   "source": [
    "# MLTSA vs Feature Permutations\n",
    "\n",
    "###### *Note that this Jupyter Notebook requires you to have the MLTSA package installed."
   ]
  },
  {
   "cell_type": "markdown",
   "metadata": {},
   "source": [
    "As usual with MLTSA experiments we first create the 1D analytical model dataset."
   ]
  },
  {
   "cell_type": "code",
   "execution_count": 1,
   "metadata": {},
   "outputs": [
    {
     "name": "stderr",
     "output_type": "stream",
     "text": [
      "Defining Potentials: 100%|##########| 25/25 [00:00<00:00, 2549.11it/s]\n"
     ]
    }
   ],
   "source": [
    "\"\"\"First we import our dataset examples\"\"\"\n",
    "import MLTSA\n",
    "potentials = MLTSA.datasets.one_d_pot #We import the potentials class which will define them.\n",
    "dataset = MLTSA.datasets.one_d_dataset #We import the dataset class which will hold our potentials.\n",
    "import matplotlib.pyplot as plt\n",
    "import numpy as np\n",
    "\n",
    "#This cell sets the potentials, don't re-run\n",
    "total_n_pots = 25\n",
    "n_DW = 5\n",
    "relevant_DW_n = 2\n",
    "#After defining the desired parameters we define the potentials accordingly\n",
    "pots = potentials(total_n_pots, n_DW, relevant_DW_n)\n",
    "# This creates the first dataset of data.\n",
    "n_features = 180\n",
    "degree_of_mixing = 2\n",
    "#We specified the number of features wanted and how much they will mix\n",
    "oneD_dataset = dataset(pots, n_features, degree_of_mixing)"
   ]
  },
  {
   "cell_type": "markdown",
   "metadata": {
    "pycharm": {}
   },
   "source": [
    "Once the dataset has been created we generate the data we will use over the comparison"
   ]
  },
  {
   "cell_type": "code",
   "execution_count": 2,
   "metadata": {
    "pycharm": {
     "name": "#%%\n"
    }
   },
   "outputs": [
    {
     "name": "stdout",
     "output_type": "stream",
     "text": [
      "Generating dataset\n"
     ]
    },
    {
     "name": "stderr",
     "output_type": "stream",
     "text": [
      "Running Simulations: 100%|##########| 100/100 [00:10<00:00,  9.41it/s]\n"
     ]
    },
    {
     "name": "stdout",
     "output_type": "stream",
     "text": [
      "Getting simulation labels for the generated data\n"
     ]
    },
    {
     "name": "stderr",
     "output_type": "stream",
     "text": [
      "Classifying Simulation Outcomes: 100%|##########| 100/100 [00:00<00:00, 407609.72it/s]\n"
     ]
    },
    {
     "name": "stdout",
     "output_type": "stream",
     "text": [
      "Generating dataset\n"
     ]
    },
    {
     "name": "stderr",
     "output_type": "stream",
     "text": [
      "Running Simulations: 100%|##########| 50/50 [00:06<00:00,  8.21it/s]\n"
     ]
    },
    {
     "name": "stdout",
     "output_type": "stream",
     "text": [
      "Getting simulation labels for the generated data\n"
     ]
    },
    {
     "name": "stderr",
     "output_type": "stream",
     "text": [
      "Classifying Simulation Outcomes: 100%|##########| 50/50 [00:00<00:00, 328707.21it/s]\n"
     ]
    }
   ],
   "source": [
    "\"\"\"Now we generate the trajectories we will use for the whole experiment\"\"\"\n",
    "#Generate the trajectories\n",
    "n_simulations = 100\n",
    "n_steps = 250\n",
    "data, ans = oneD_dataset.generate_linear(n_simulations, n_steps)\n",
    "data_val, ans_val = oneD_dataset.generate_linear(int(n_simulations/2), n_steps)"
   ]
  },
  {
   "cell_type": "markdown",
   "metadata": {
    "pycharm": {}
   },
   "source": []
  },
  {
   "cell_type": "code",
   "execution_count": 3,
   "metadata": {
    "pycharm": {
     "name": "#%%\n"
    }
   },
   "outputs": [
    {
     "name": "stdout",
     "output_type": "stream",
     "text": [
      "Accuracy on Train is 52.0\n",
      "Accuracy on Test set is 52.0\n",
      "Trained in  0.1624584197998047 seconds\n"
     ]
    },
    {
     "name": "stderr",
     "output_type": "stream",
     "text": [
      "100it [00:02, 37.23it/s]\n"
     ]
    },
    {
     "name": "stdout",
     "output_type": "stream",
     "text": [
      "Accuracy on Train is 52.0\n",
      "Accuracy on Test set is 52.0\n",
      "Trained in  0.1578381061553955 seconds\n"
     ]
    },
    {
     "name": "stderr",
     "output_type": "stream",
     "text": [
      "100it [00:02, 37.46it/s]\n"
     ]
    },
    {
     "name": "stdout",
     "output_type": "stream",
     "text": [
      "Accuracy on Train is 52.0\n",
      "Accuracy on Test set is 52.0\n",
      "Trained in  0.15475726127624512 seconds\n"
     ]
    },
    {
     "name": "stderr",
     "output_type": "stream",
     "text": [
      "100it [00:02, 37.62it/s]\n"
     ]
    },
    {
     "name": "stdout",
     "output_type": "stream",
     "text": [
      "Accuracy on Train is 52.0\n",
      "Accuracy on Test set is 52.0\n",
      "Trained in  0.1121668815612793 seconds\n"
     ]
    },
    {
     "name": "stderr",
     "output_type": "stream",
     "text": [
      "100it [00:02, 37.22it/s]\n"
     ]
    },
    {
     "name": "stdout",
     "output_type": "stream",
     "text": [
      "Accuracy on Train is 52.0\n",
      "Accuracy on Test set is 52.0\n",
      "Trained in  0.19937443733215332 seconds\n"
     ]
    },
    {
     "name": "stderr",
     "output_type": "stream",
     "text": [
      "100it [00:02, 37.70it/s]\n"
     ]
    },
    {
     "name": "stdout",
     "output_type": "stream",
     "text": [
      "Accuracy on Train is 52.0\n",
      "Accuracy on Test set is 52.0\n",
      "Trained in  0.16517066955566406 seconds\n"
     ]
    },
    {
     "name": "stderr",
     "output_type": "stream",
     "text": [
      "100it [00:02, 37.49it/s]\n"
     ]
    },
    {
     "name": "stdout",
     "output_type": "stream",
     "text": [
      "Accuracy on Train is 50.66666666666667\n",
      "Accuracy on Test set is 52.800000000000004\n",
      "Trained in  0.09444761276245117 seconds\n"
     ]
    },
    {
     "name": "stderr",
     "output_type": "stream",
     "text": [
      "100it [00:02, 37.55it/s]\n"
     ]
    },
    {
     "name": "stdout",
     "output_type": "stream",
     "text": [
      "Accuracy on Train is 50.93333333333333\n",
      "Accuracy on Test set is 52.800000000000004\n",
      "Trained in  0.08922123908996582 seconds\n"
     ]
    },
    {
     "name": "stderr",
     "output_type": "stream",
     "text": [
      "100it [00:02, 37.58it/s]\n"
     ]
    },
    {
     "name": "stdout",
     "output_type": "stream",
     "text": [
      "Accuracy on Train is 95.19999999999999\n",
      "Accuracy on Test set is 92.80000000000001\n",
      "Trained in  2.0215036869049072 seconds\n"
     ]
    },
    {
     "name": "stderr",
     "output_type": "stream",
     "text": [
      "100it [00:02, 38.01it/s]\n"
     ]
    },
    {
     "name": "stdout",
     "output_type": "stream",
     "text": [
      "Accuracy on Train is 57.111111111111114\n",
      "Accuracy on Test set is 56.666666666666664\n",
      "Trained in  0.48879027366638184 seconds\n"
     ]
    },
    {
     "name": "stderr",
     "output_type": "stream",
     "text": [
      "100it [00:02, 39.37it/s]\n",
      "/home/ucapzwe/.local/lib/python3.8/site-packages/sklearn/neural_network/_multilayer_perceptron.py:692: ConvergenceWarning: Stochastic Optimizer: Maximum iterations (500) reached and the optimization hasn't converged yet.\n",
      "  warnings.warn(\n"
     ]
    },
    {
     "name": "stdout",
     "output_type": "stream",
     "text": [
      "Accuracy on Train is 96.53333333333333\n",
      "Accuracy on Test set is 94.39999999999999\n",
      "Trained in  2.3958933353424072 seconds\n"
     ]
    },
    {
     "name": "stderr",
     "output_type": "stream",
     "text": [
      "100it [00:02, 37.81it/s]\n",
      "/home/ucapzwe/.local/lib/python3.8/site-packages/sklearn/neural_network/_multilayer_perceptron.py:692: ConvergenceWarning: Stochastic Optimizer: Maximum iterations (500) reached and the optimization hasn't converged yet.\n",
      "  warnings.warn(\n"
     ]
    },
    {
     "name": "stdout",
     "output_type": "stream",
     "text": [
      "Accuracy on Train is 96.8\n",
      "Accuracy on Test set is 98.4\n",
      "Trained in  2.663121461868286 seconds\n"
     ]
    },
    {
     "name": "stderr",
     "output_type": "stream",
     "text": [
      "100it [00:02, 37.72it/s]\n",
      "/home/ucapzwe/.local/lib/python3.8/site-packages/sklearn/neural_network/_multilayer_perceptron.py:692: ConvergenceWarning: Stochastic Optimizer: Maximum iterations (500) reached and the optimization hasn't converged yet.\n",
      "  warnings.warn(\n"
     ]
    },
    {
     "name": "stdout",
     "output_type": "stream",
     "text": [
      "Accuracy on Train is 98.93333333333332\n",
      "Accuracy on Test set is 97.6\n",
      "Trained in  2.464402437210083 seconds\n"
     ]
    },
    {
     "name": "stderr",
     "output_type": "stream",
     "text": [
      "100it [00:02, 37.60it/s]\n",
      "/home/ucapzwe/.local/lib/python3.8/site-packages/sklearn/neural_network/_multilayer_perceptron.py:692: ConvergenceWarning: Stochastic Optimizer: Maximum iterations (500) reached and the optimization hasn't converged yet.\n",
      "  warnings.warn(\n"
     ]
    },
    {
     "name": "stdout",
     "output_type": "stream",
     "text": [
      "Accuracy on Train is 99.2\n",
      "Accuracy on Test set is 98.4\n",
      "Trained in  2.566390037536621 seconds\n"
     ]
    },
    {
     "name": "stderr",
     "output_type": "stream",
     "text": [
      "100it [00:02, 37.71it/s]\n",
      "/home/ucapzwe/.local/lib/python3.8/site-packages/sklearn/neural_network/_multilayer_perceptron.py:692: ConvergenceWarning: Stochastic Optimizer: Maximum iterations (500) reached and the optimization hasn't converged yet.\n",
      "  warnings.warn(\n"
     ]
    },
    {
     "name": "stdout",
     "output_type": "stream",
     "text": [
      "Accuracy on Train is 99.2\n",
      "Accuracy on Test set is 98.4\n",
      "Trained in  2.5321004390716553 seconds\n"
     ]
    },
    {
     "name": "stderr",
     "output_type": "stream",
     "text": [
      "100it [00:02, 37.68it/s]\n",
      "/home/ucapzwe/.local/lib/python3.8/site-packages/sklearn/neural_network/_multilayer_perceptron.py:692: ConvergenceWarning: Stochastic Optimizer: Maximum iterations (500) reached and the optimization hasn't converged yet.\n",
      "  warnings.warn(\n"
     ]
    },
    {
     "name": "stdout",
     "output_type": "stream",
     "text": [
      "Accuracy on Train is 99.2\n",
      "Accuracy on Test set is 98.4\n",
      "Trained in  2.557203531265259 seconds\n"
     ]
    },
    {
     "name": "stderr",
     "output_type": "stream",
     "text": [
      "100it [00:02, 37.42it/s]\n",
      "/home/ucapzwe/.local/lib/python3.8/site-packages/sklearn/neural_network/_multilayer_perceptron.py:692: ConvergenceWarning: Stochastic Optimizer: Maximum iterations (500) reached and the optimization hasn't converged yet.\n",
      "  warnings.warn(\n"
     ]
    },
    {
     "name": "stdout",
     "output_type": "stream",
     "text": [
      "Accuracy on Train is 99.2\n",
      "Accuracy on Test set is 98.4\n",
      "Trained in  2.5434908866882324 seconds\n"
     ]
    },
    {
     "name": "stderr",
     "output_type": "stream",
     "text": [
      "100it [00:02, 37.93it/s]\n",
      "/home/ucapzwe/.local/lib/python3.8/site-packages/sklearn/neural_network/_multilayer_perceptron.py:692: ConvergenceWarning: Stochastic Optimizer: Maximum iterations (500) reached and the optimization hasn't converged yet.\n",
      "  warnings.warn(\n"
     ]
    },
    {
     "name": "stdout",
     "output_type": "stream",
     "text": [
      "Accuracy on Train is 99.2\n",
      "Accuracy on Test set is 98.4\n",
      "Trained in  2.2216408252716064 seconds\n"
     ]
    },
    {
     "name": "stderr",
     "output_type": "stream",
     "text": [
      "100it [00:02, 38.23it/s]\n",
      "/home/ucapzwe/.local/lib/python3.8/site-packages/sklearn/neural_network/_multilayer_perceptron.py:692: ConvergenceWarning: Stochastic Optimizer: Maximum iterations (500) reached and the optimization hasn't converged yet.\n",
      "  warnings.warn(\n"
     ]
    },
    {
     "name": "stdout",
     "output_type": "stream",
     "text": [
      "Accuracy on Train is 99.2\n",
      "Accuracy on Test set is 98.4\n",
      "Trained in  2.470066547393799 seconds\n"
     ]
    },
    {
     "name": "stderr",
     "output_type": "stream",
     "text": [
      "100it [00:02, 37.88it/s]\n"
     ]
    },
    {
     "name": "stdout",
     "output_type": "stream",
     "text": [
      "Accuracy on Train is 98.22222222222223\n",
      "Accuracy on Test set is 97.33333333333334\n",
      "Trained in  2.2953412532806396 seconds\n"
     ]
    },
    {
     "name": "stderr",
     "output_type": "stream",
     "text": [
      "100it [00:02, 39.06it/s]\n",
      "/home/ucapzwe/.local/lib/python3.8/site-packages/sklearn/neural_network/_multilayer_perceptron.py:692: ConvergenceWarning: Stochastic Optimizer: Maximum iterations (500) reached and the optimization hasn't converged yet.\n",
      "  warnings.warn(\n"
     ]
    },
    {
     "name": "stdout",
     "output_type": "stream",
     "text": [
      "Accuracy on Train is 99.2\n",
      "Accuracy on Test set is 98.4\n",
      "Trained in  2.449965715408325 seconds\n"
     ]
    },
    {
     "name": "stderr",
     "output_type": "stream",
     "text": [
      "100it [00:02, 37.54it/s]\n",
      "/home/ucapzwe/.local/lib/python3.8/site-packages/sklearn/neural_network/_multilayer_perceptron.py:692: ConvergenceWarning: Stochastic Optimizer: Maximum iterations (500) reached and the optimization hasn't converged yet.\n",
      "  warnings.warn(\n"
     ]
    },
    {
     "name": "stdout",
     "output_type": "stream",
     "text": [
      "Accuracy on Train is 99.2\n",
      "Accuracy on Test set is 98.4\n",
      "Trained in  2.494182825088501 seconds\n"
     ]
    },
    {
     "name": "stderr",
     "output_type": "stream",
     "text": [
      "100it [00:02, 37.72it/s]\n",
      "/home/ucapzwe/.local/lib/python3.8/site-packages/sklearn/neural_network/_multilayer_perceptron.py:692: ConvergenceWarning: Stochastic Optimizer: Maximum iterations (500) reached and the optimization hasn't converged yet.\n",
      "  warnings.warn(\n"
     ]
    },
    {
     "name": "stdout",
     "output_type": "stream",
     "text": [
      "Accuracy on Train is 99.2\n",
      "Accuracy on Test set is 98.4\n",
      "Trained in  2.6416749954223633 seconds\n"
     ]
    },
    {
     "name": "stderr",
     "output_type": "stream",
     "text": [
      "100it [00:02, 37.66it/s]\n",
      "/home/ucapzwe/.local/lib/python3.8/site-packages/sklearn/neural_network/_multilayer_perceptron.py:692: ConvergenceWarning: Stochastic Optimizer: Maximum iterations (500) reached and the optimization hasn't converged yet.\n",
      "  warnings.warn(\n"
     ]
    },
    {
     "name": "stdout",
     "output_type": "stream",
     "text": [
      "Accuracy on Train is 99.46666666666667\n",
      "Accuracy on Test set is 98.4\n",
      "Trained in  2.442538022994995 seconds\n"
     ]
    },
    {
     "name": "stderr",
     "output_type": "stream",
     "text": [
      "100it [00:02, 37.69it/s]\n",
      "/home/ucapzwe/.local/lib/python3.8/site-packages/sklearn/neural_network/_multilayer_perceptron.py:692: ConvergenceWarning: Stochastic Optimizer: Maximum iterations (500) reached and the optimization hasn't converged yet.\n",
      "  warnings.warn(\n"
     ]
    },
    {
     "name": "stdout",
     "output_type": "stream",
     "text": [
      "Accuracy on Train is 100.0\n",
      "Accuracy on Test set is 100.0\n",
      "Trained in  2.558825731277466 seconds\n"
     ]
    },
    {
     "name": "stderr",
     "output_type": "stream",
     "text": [
      "100it [00:02, 37.93it/s]\n"
     ]
    },
    {
     "name": "stdout",
     "output_type": "stream",
     "text": [
      "Accuracy on Train is 100.0\n",
      "Accuracy on Test set is 100.0\n",
      "Trained in  2.4935450553894043 seconds\n"
     ]
    },
    {
     "name": "stderr",
     "output_type": "stream",
     "text": [
      "100it [00:02, 37.72it/s]\n"
     ]
    },
    {
     "name": "stdout",
     "output_type": "stream",
     "text": [
      "Accuracy on Train is 100.0\n",
      "Accuracy on Test set is 100.0\n",
      "Trained in  1.9289112091064453 seconds\n"
     ]
    },
    {
     "name": "stderr",
     "output_type": "stream",
     "text": [
      "100it [00:02, 37.76it/s]\n"
     ]
    },
    {
     "name": "stdout",
     "output_type": "stream",
     "text": [
      "Accuracy on Train is 100.0\n",
      "Accuracy on Test set is 100.0\n",
      "Trained in  1.9949796199798584 seconds\n"
     ]
    },
    {
     "name": "stderr",
     "output_type": "stream",
     "text": [
      "100it [00:02, 39.90it/s]\n"
     ]
    },
    {
     "name": "stdout",
     "output_type": "stream",
     "text": [
      "Accuracy on Train is 100.0\n",
      "Accuracy on Test set is 100.0\n",
      "Trained in  1.253880500793457 seconds\n"
     ]
    },
    {
     "name": "stderr",
     "output_type": "stream",
     "text": [
      "100it [00:02, 39.88it/s]\n"
     ]
    },
    {
     "name": "stdout",
     "output_type": "stream",
     "text": [
      "Accuracy on Train is 100.0\n",
      "Accuracy on Test set is 100.0\n",
      "Trained in  2.0461878776550293 seconds\n"
     ]
    },
    {
     "name": "stderr",
     "output_type": "stream",
     "text": [
      "100it [00:02, 41.93it/s]\n"
     ]
    },
    {
     "name": "stdout",
     "output_type": "stream",
     "text": [
      "Accuracy on Train is 100.0\n",
      "Accuracy on Test set is 100.0\n",
      "Trained in  1.2801878452301025 seconds\n"
     ]
    },
    {
     "name": "stderr",
     "output_type": "stream",
     "text": [
      "100it [00:02, 39.91it/s]\n"
     ]
    },
    {
     "name": "stdout",
     "output_type": "stream",
     "text": [
      "Accuracy on Train is 100.0\n",
      "Accuracy on Test set is 100.0\n",
      "Trained in  1.3515639305114746 seconds\n"
     ]
    },
    {
     "name": "stderr",
     "output_type": "stream",
     "text": [
      "100it [00:02, 40.43it/s]\n"
     ]
    },
    {
     "name": "stdout",
     "output_type": "stream",
     "text": [
      "Accuracy on Train is 100.0\n",
      "Accuracy on Test set is 100.0\n",
      "Trained in  1.274172067642212 seconds\n"
     ]
    },
    {
     "name": "stderr",
     "output_type": "stream",
     "text": [
      "100it [00:02, 40.27it/s]\n"
     ]
    },
    {
     "name": "stdout",
     "output_type": "stream",
     "text": [
      "Accuracy on Train is 100.0\n",
      "Accuracy on Test set is 100.0\n",
      "Trained in  1.2233848571777344 seconds\n"
     ]
    },
    {
     "name": "stderr",
     "output_type": "stream",
     "text": [
      "100it [00:02, 40.26it/s]\n"
     ]
    },
    {
     "name": "stdout",
     "output_type": "stream",
     "text": [
      "Accuracy on Train is 100.0\n",
      "Accuracy on Test set is 100.0\n",
      "Trained in  1.2219607830047607 seconds\n"
     ]
    },
    {
     "name": "stderr",
     "output_type": "stream",
     "text": [
      "100it [00:02, 40.32it/s]\n"
     ]
    },
    {
     "name": "stdout",
     "output_type": "stream",
     "text": [
      "Accuracy on Train is 100.0\n",
      "Accuracy on Test set is 100.0\n",
      "Trained in  1.5841865539550781 seconds\n"
     ]
    },
    {
     "name": "stderr",
     "output_type": "stream",
     "text": [
      "100it [00:02, 39.97it/s]\n"
     ]
    },
    {
     "name": "stdout",
     "output_type": "stream",
     "text": [
      "Accuracy on Train is 100.0\n",
      "Accuracy on Test set is 100.0\n",
      "Trained in  0.930140495300293 seconds\n"
     ]
    },
    {
     "name": "stderr",
     "output_type": "stream",
     "text": [
      "100it [00:02, 38.88it/s]\n"
     ]
    },
    {
     "name": "stdout",
     "output_type": "stream",
     "text": [
      "Accuracy on Train is 100.0\n",
      "Accuracy on Test set is 100.0\n",
      "Trained in  1.0107722282409668 seconds\n"
     ]
    },
    {
     "name": "stderr",
     "output_type": "stream",
     "text": [
      "100it [00:02, 38.95it/s]\n"
     ]
    },
    {
     "name": "stdout",
     "output_type": "stream",
     "text": [
      "Accuracy on Train is 100.0\n",
      "Accuracy on Test set is 100.0\n",
      "Trained in  0.7121357917785645 seconds\n"
     ]
    },
    {
     "name": "stderr",
     "output_type": "stream",
     "text": [
      "100it [00:02, 40.64it/s]\n"
     ]
    },
    {
     "name": "stdout",
     "output_type": "stream",
     "text": [
      "Accuracy on Train is 100.0\n",
      "Accuracy on Test set is 100.0\n",
      "Trained in  1.3539164066314697 seconds\n"
     ]
    },
    {
     "name": "stderr",
     "output_type": "stream",
     "text": [
      "100it [00:02, 41.76it/s]\n"
     ]
    },
    {
     "name": "stdout",
     "output_type": "stream",
     "text": [
      "Accuracy on Train is 100.0\n",
      "Accuracy on Test set is 100.0\n",
      "Trained in  0.9969758987426758 seconds\n"
     ]
    },
    {
     "name": "stderr",
     "output_type": "stream",
     "text": [
      "100it [00:02, 39.67it/s]\n"
     ]
    },
    {
     "name": "stdout",
     "output_type": "stream",
     "text": [
      "Accuracy on Train is 100.0\n",
      "Accuracy on Test set is 100.0\n",
      "Trained in  0.8923823833465576 seconds\n"
     ]
    },
    {
     "name": "stderr",
     "output_type": "stream",
     "text": [
      "100it [00:02, 39.32it/s]\n"
     ]
    },
    {
     "name": "stdout",
     "output_type": "stream",
     "text": [
      "Accuracy on Train is 100.0\n",
      "Accuracy on Test set is 100.0\n",
      "Trained in  0.9725346565246582 seconds\n"
     ]
    },
    {
     "name": "stderr",
     "output_type": "stream",
     "text": [
      "100it [00:02, 38.47it/s]\n"
     ]
    },
    {
     "name": "stdout",
     "output_type": "stream",
     "text": [
      "Accuracy on Train is 100.0\n",
      "Accuracy on Test set is 100.0\n",
      "Trained in  0.9402093887329102 seconds\n"
     ]
    },
    {
     "name": "stderr",
     "output_type": "stream",
     "text": [
      "100it [00:02, 39.29it/s]\n"
     ]
    },
    {
     "name": "stdout",
     "output_type": "stream",
     "text": [
      "Accuracy on Train is 100.0\n",
      "Accuracy on Test set is 100.0\n",
      "Trained in  0.9276635646820068 seconds\n"
     ]
    },
    {
     "name": "stderr",
     "output_type": "stream",
     "text": [
      "100it [00:02, 38.89it/s]\n"
     ]
    },
    {
     "name": "stdout",
     "output_type": "stream",
     "text": [
      "Accuracy on Train is 100.0\n",
      "Accuracy on Test set is 100.0\n",
      "Trained in  0.8993639945983887 seconds\n"
     ]
    },
    {
     "name": "stderr",
     "output_type": "stream",
     "text": [
      "100it [00:02, 38.69it/s]\n"
     ]
    },
    {
     "name": "stdout",
     "output_type": "stream",
     "text": [
      "Accuracy on Train is 100.0\n",
      "Accuracy on Test set is 100.0\n",
      "Trained in  0.862098217010498 seconds\n"
     ]
    },
    {
     "name": "stderr",
     "output_type": "stream",
     "text": [
      "100it [00:02, 38.53it/s]\n"
     ]
    },
    {
     "name": "stdout",
     "output_type": "stream",
     "text": [
      "Accuracy on Train is 100.0\n",
      "Accuracy on Test set is 100.0\n",
      "Trained in  0.8406808376312256 seconds\n"
     ]
    },
    {
     "name": "stderr",
     "output_type": "stream",
     "text": [
      "100it [00:02, 38.89it/s]\n"
     ]
    },
    {
     "name": "stdout",
     "output_type": "stream",
     "text": [
      "Accuracy on Train is 100.0\n",
      "Accuracy on Test set is 100.0\n",
      "Trained in  0.9818370342254639 seconds\n"
     ]
    },
    {
     "name": "stderr",
     "output_type": "stream",
     "text": [
      "100it [00:02, 39.87it/s]\n"
     ]
    }
   ],
   "source": [
    "from MLTSA import mlp_sk as SKL_Train\n",
    "from sklearn.neural_network import MLPClassifier\n",
    "from MLTSA import MLTSA_skl\n",
    "\n",
    "#For loop for MLTSA and Permutation on MLP\n",
    "\n",
    "time_bins = 50\n",
    "time_range = np.linspace(0, n_steps, time_bins)\n",
    "\n",
    "results = {}\n",
    "results[\"MLTSA\"] = []\n",
    "results[\"NN\"] = []\n",
    "results[\"acc\"] = []\n",
    "\n",
    "\n",
    "for t in range(time_bins-1):\n",
    "\n",
    "    time_frame = [int(time_range[t]), int(time_range[t+1])]\n",
    "    X, Y = oneD_dataset.PrepareData(data, ans, time_frame, mode=\"Normal\")\n",
    "    X_val, Y_val = oneD_dataset.PrepareData(data_val, ans_val, time_frame, mode=\"Normal\")\n",
    "\n",
    "    NN = MLPClassifier(random_state=0, verbose=False, max_iter=500)\n",
    "    trained_NN, train_acc, test_acc = SKL_Train(NN, X, Y)\n",
    "\n",
    "    Y_pred = trained_NN.predict(X_val)\n",
    "    val_acc = Y_val == Y_pred\n",
    "    val_acc = np.mean(val_acc)\n",
    "\n",
    "    ADrop_train_avg = MLTSA_skl(data[:,:,int(time_frame[0]):int(time_frame[1])], ans, trained_NN, drop_mode=\"Average\")\n",
    "\n",
    "    results[\"MLTSA\"].append(ADrop_train_avg)\n",
    "    results[\"NN\"].append(trained_NN)\n",
    "    results[\"acc\"].append([train_acc, test_acc, val_acc])"
   ]
  },
  {
   "cell_type": "code",
   "execution_count": 4,
   "metadata": {
    "pycharm": {
     "name": "#%%\n"
    }
   },
   "outputs": [
    {
     "data": {
      "text/plain": [
       "Text(0.5, 0, 'Feature (CV)')"
      ]
     },
     "execution_count": 4,
     "metadata": {},
     "output_type": "execute_result"
    },
    {
     "data": {
      "image/png": "[encoded data removed]",
      "text/plain": [
       "<Figure size 432x288 with 1 Axes>"
      ]
     },
     "metadata": {
      "needs_background": "light"
     },
     "output_type": "display_data"
    },
    {
     "data": {
      "image/png": "[encoded data removed]",
      "text/plain": [
       "<Figure size 432x288 with 1 Axes>"
      ]
     },
     "metadata": {
      "needs_background": "light"
     },
     "output_type": "display_data"
    }
   ],
   "source": [
    "acc = np.array(results[\"acc\"])\n",
    "adrop = np.array(results[\"MLTSA\"])\n",
    "\n",
    "plt.figure()\n",
    "plt.title(\"Accuracy through replicas (MLP)\")\n",
    "plt.plot(acc.T[0]*100,\"-o\",  label=\"Training\",)\n",
    "plt.plot(acc.T[1]*100,\"-o\", label=\"Test\")\n",
    "plt.xlabel(\"Replica\")\n",
    "plt.ylabel(\"Accuracy\")\n",
    "plt.legend()\n",
    "\n",
    "std = np.std(adrop, axis=0)*100\n",
    "mean = np.mean(adrop, axis=0)*100\n",
    "plt.figure()\n",
    "plt.title(\"MLTSA - MLP\")\n",
    "plt.plot(mean)\n",
    "plt.ylabel(\"Accuracy\")\n",
    "plt.xlabel(\"Feature (CV)\")"
   ]
  },
  {
   "cell_type": "code",
   "execution_count": 5,
   "metadata": {
    "collapsed": false,
    "jupyter": {
     "outputs_hidden": false
    },
    "pycharm": {
     "name": "#%%\n"
    }
   },
   "outputs": [
    {
     "data": {
      "text/plain": [
       "<AxesSubplot:>"
      ]
     },
     "execution_count": 5,
     "metadata": {},
     "output_type": "execute_result"
    },
    {
     "data": {
      "image/png": "[encoded data removed]",
      "text/plain": [
       "<Figure size 432x288 with 2 Axes>"
      ]
     },
     "metadata": {
      "needs_background": "light"
     },
     "output_type": "display_data"
    }
   ],
   "source": [
    "import seaborn as sns\n",
    "#plt.figure(figsize=(50,5))\n",
    "#plt.matshow(adrop.T)\n",
    "sns.heatmap(adrop.T)"
   ]
  },
  {
   "cell_type": "code",
   "execution_count": 6,
   "metadata": {
    "collapsed": false,
    "jupyter": {
     "outputs_hidden": false
    },
    "pycharm": {
     "name": "#%%\n"
    }
   },
   "outputs": [
    {
     "name": "stderr",
     "output_type": "stream",
     "text": [
      "/home/ucapzwe/.local/lib/python3.8/site-packages/MLTSA/MLTSA_sklearn/MLTSA_sk.py:112: UserWarning: marker is redundantly defined by the 'marker' keyword argument and the fmt string \"-o\" (-> marker='o'). The keyword argument will take precedence.\n",
      "  plt.plot(dat, \"-o\", color=\"black\", marker=\"s\")\n"
     ]
    },
    {
     "data": {
      "image/png": "[encoded data removed]",
      "text/plain": [
       "<Figure size 720x216 with 1 Axes>"
      ]
     },
     "metadata": {
      "needs_background": "light"
     },
     "output_type": "display_data"
    },
    {
     "data": {
      "image/png": "[encoded data removed]",
      "text/plain": [
       "<Figure size 432x72 with 1 Axes>"
      ]
     },
     "metadata": {
      "needs_background": "light"
     },
     "output_type": "display_data"
    }
   ],
   "source": [
    "from MLTSA import MLTSA_plot_sk\n",
    "\n",
    "#We simply get the plot with this\n",
    "MLTSA_plot_sk(adrop, oneD_dataset, pots, errorbar=False)"
   ]
  },
  {
   "cell_type": "code",
   "execution_count": null,
   "metadata": {
    "collapsed": false,
    "jupyter": {
     "outputs_hidden": false
    },
    "pycharm": {
     "name": "#%%\n"
    }
   },
   "outputs": [],
   "source": []
  },
  {
   "cell_type": "code",
   "execution_count": null,
   "metadata": {
    "collapsed": false,
    "jupyter": {
     "outputs_hidden": false
    },
    "pycharm": {
     "name": "#%%\n"
    }
   },
   "outputs": [],
   "source": []
  },
  {
   "cell_type": "code",
   "execution_count": null,
   "metadata": {
    "collapsed": false,
    "jupyter": {
     "outputs_hidden": false
    },
    "pycharm": {
     "name": "#%%\n"
    }
   },
   "outputs": [],
   "source": []
  },
  {
   "cell_type": "code",
   "execution_count": 10,
   "metadata": {
    "collapsed": false,
    "jupyter": {
     "outputs_hidden": false
    },
    "pycharm": {
     "name": "#%%\n"
    }
   },
   "outputs": [
    {
     "name": "stdout",
     "output_type": "stream",
     "text": [
      "Accuracy on Train is 52.0\n",
      "Accuracy on Test set is 52.0\n",
      "Trained in  0.18578743934631348 seconds\n"
     ]
    },
    {
     "name": "stderr",
     "output_type": "stream",
     "text": [
      "100it [00:02, 35.79it/s]\n"
     ]
    },
    {
     "name": "stdout",
     "output_type": "stream",
     "text": [
      "Accuracy on Train is 52.0\n",
      "Accuracy on Test set is 52.0\n",
      "Trained in  0.17158293724060059 seconds\n"
     ]
    },
    {
     "name": "stderr",
     "output_type": "stream",
     "text": [
      "100it [00:02, 35.87it/s]\n"
     ]
    },
    {
     "name": "stdout",
     "output_type": "stream",
     "text": [
      "Accuracy on Train is 94.13333333333334\n",
      "Accuracy on Test set is 95.19999999999999\n",
      "Trained in  3.9111037254333496 seconds\n"
     ]
    },
    {
     "name": "stderr",
     "output_type": "stream",
     "text": [
      "100it [00:02, 35.57it/s]\n"
     ]
    },
    {
     "name": "stdout",
     "output_type": "stream",
     "text": [
      "Accuracy on Train is 100.0\n",
      "Accuracy on Test set is 99.2\n",
      "Trained in  3.6043381690979004 seconds\n"
     ]
    },
    {
     "name": "stderr",
     "output_type": "stream",
     "text": [
      "100it [00:02, 35.29it/s]\n"
     ]
    },
    {
     "name": "stdout",
     "output_type": "stream",
     "text": [
      "Accuracy on Train is 99.2\n",
      "Accuracy on Test set is 98.4\n",
      "Trained in  2.527967929840088 seconds\n"
     ]
    },
    {
     "name": "stderr",
     "output_type": "stream",
     "text": [
      "100it [00:02, 41.00it/s]\n"
     ]
    },
    {
     "name": "stdout",
     "output_type": "stream",
     "text": [
      "Accuracy on Train is 100.0\n",
      "Accuracy on Test set is 100.0\n",
      "Trained in  2.144765853881836 seconds\n"
     ]
    },
    {
     "name": "stderr",
     "output_type": "stream",
     "text": [
      "100it [00:02, 41.30it/s]\n"
     ]
    },
    {
     "name": "stdout",
     "output_type": "stream",
     "text": [
      "Accuracy on Train is 100.0\n",
      "Accuracy on Test set is 100.0\n",
      "Trained in  1.698268175125122 seconds\n"
     ]
    },
    {
     "name": "stderr",
     "output_type": "stream",
     "text": [
      "100it [00:02, 41.13it/s]\n"
     ]
    },
    {
     "name": "stdout",
     "output_type": "stream",
     "text": [
      "Accuracy on Train is 100.0\n",
      "Accuracy on Test set is 100.0\n",
      "Trained in  1.6689565181732178 seconds\n"
     ]
    },
    {
     "name": "stderr",
     "output_type": "stream",
     "text": [
      "100it [00:02, 41.37it/s]\n"
     ]
    },
    {
     "name": "stdout",
     "output_type": "stream",
     "text": [
      "Accuracy on Train is 100.0\n",
      "Accuracy on Test set is 100.0\n",
      "Trained in  0.9436304569244385 seconds\n"
     ]
    },
    {
     "name": "stderr",
     "output_type": "stream",
     "text": [
      "100it [00:02, 41.56it/s]\n"
     ]
    }
   ],
   "source": [
    "from MLTSA import mlp_sk as SKL_Train\n",
    "from sklearn.neural_network import MLPClassifier\n",
    "from MLTSA import MLTSA_skl\n",
    "\n",
    "#For loop for MLTSA and Permutation on MLP\n",
    "\n",
    "time_bins = 50\n",
    "time_range = np.linspace(0, n_steps, time_bins)\n",
    "region = 5\n",
    "\n",
    "results_d = {}\n",
    "results_d[\"MLTSA\"] = []\n",
    "results_d[\"NN\"] = []\n",
    "results_d[\"acc\"] = []\n",
    "\n",
    "\n",
    "for t in range(0,time_bins-region,region):\n",
    "\n",
    "    time_frame = [int(time_range[t]), int(time_range[t]+region)]\n",
    "    X, Y = oneD_dataset.PrepareData(data, ans, time_frame, mode=\"Normal\")\n",
    "    X_val, Y_val = oneD_dataset.PrepareData(data_val, ans_val, time_frame, mode=\"Normal\")\n",
    "\n",
    "    NN = MLPClassifier(random_state=0, verbose=False, max_iter=1000)\n",
    "    trained_NN, train_acc, test_acc = SKL_Train(NN, X, Y)\n",
    "\n",
    "    Y_pred = trained_NN.predict(X_val)\n",
    "    val_acc = Y_val == Y_pred\n",
    "    val_acc = np.mean(val_acc)\n",
    "\n",
    "    ADrop_train_avg = MLTSA_skl(data[:,:,int(time_frame[0]):int(time_frame[1])], ans, trained_NN, drop_mode=\"Average\")\n",
    "\n",
    "    results_d[\"MLTSA\"].append(ADrop_train_avg)\n",
    "    results_d[\"NN\"].append(trained_NN)\n",
    "    results_d[\"acc\"].append([train_acc, test_acc, val_acc])"
   ]
  },
  {
   "cell_type": "code",
   "execution_count": 11,
   "metadata": {
    "pycharm": {
     "name": "#%%\n"
    }
   },
   "outputs": [
    {
     "data": {
      "text/plain": [
       "Text(0.5, 0, 'Feature (CV)')"
      ]
     },
     "execution_count": 11,
     "metadata": {},
     "output_type": "execute_result"
    },
    {
     "data": {
      "image/png": "[encoded data removed]",
      "text/plain": [
       "<Figure size 432x288 with 1 Axes>"
      ]
     },
     "metadata": {
      "needs_background": "light"
     },
     "output_type": "display_data"
    },
    {
     "data": {
      "image/png": "[encoded data removed]",
      "text/plain": [
       "<Figure size 432x288 with 1 Axes>"
      ]
     },
     "metadata": {
      "needs_background": "light"
     },
     "output_type": "display_data"
    }
   ],
   "source": [
    "acc = np.array(results_d[\"acc\"])\n",
    "adrop = np.array(results_d[\"MLTSA\"])\n",
    "\n",
    "plt.figure()\n",
    "plt.title(\"Accuracy through replicas (MLP)\")\n",
    "plt.plot(acc.T[0]*100,\"-o\",  label=\"Training\",)\n",
    "plt.plot(acc.T[1]*100,\"-o\", label=\"Test\")\n",
    "plt.xlabel(\"Replica\")\n",
    "plt.ylabel(\"Accuracy\")\n",
    "plt.legend()\n",
    "\n",
    "std = np.std(adrop, axis=0)*100\n",
    "mean = np.mean(adrop, axis=0)*100\n",
    "plt.figure()\n",
    "plt.title(\"MLTSA - MLP\")\n",
    "plt.plot(mean)\n",
    "plt.ylabel(\"Accuracy\")\n",
    "plt.xlabel(\"Feature (CV)\")\n"
   ]
  },
  {
   "cell_type": "code",
   "execution_count": 12,
   "metadata": {
    "pycharm": {
     "name": "#%%\n"
    }
   },
   "outputs": [
    {
     "data": {
      "text/plain": [
       "<AxesSubplot:>"
      ]
     },
     "execution_count": 12,
     "metadata": {},
     "output_type": "execute_result"
    },
    {
     "data": {
      "image/png": "[encoded data removed]",
      "text/plain": [
       "<Figure size 432x288 with 2 Axes>"
      ]
     },
     "metadata": {
      "needs_background": "light"
     },
     "output_type": "display_data"
    }
   ],
   "source": [
    "import seaborn as sns\n",
    "#plt.figure(figsize=(50,5))\n",
    "#plt.matshow(adrop.T)\n",
    "sns.heatmap(adrop.T)\n"
   ]
  },
  {
   "cell_type": "code",
   "execution_count": 13,
   "metadata": {
    "collapsed": false,
    "jupyter": {
     "outputs_hidden": false
    },
    "pycharm": {
     "name": "#%%\n"
    }
   },
   "outputs": [
    {
     "name": "stdout",
     "output_type": "stream",
     "text": [
      "0 0.52\n",
      "0 0.52\n",
      "2 0.934\n",
      "10 0.996\n",
      "0 0.99\n",
      "0 1.0\n",
      "0 1.0\n",
      "0 1.0\n",
      "0 1.0\n"
     ]
    },
    {
     "data": {
      "image/png": "[encoded data removed]",
      "text/plain": [
       "<Figure size 432x288 with 1 Axes>"
      ]
     },
     "metadata": {
      "needs_background": "light"
     },
     "output_type": "display_data"
    }
   ],
   "source": [
    "for n,feat in enumerate(adrop):\n",
    "    print(np.argmin(feat), feat[np.argmin(feat)])\n",
    "    plt.scatter(n,np.argmin(feat), color=\"r\" )"
   ]
  },
  {
   "cell_type": "code",
   "execution_count": 14,
   "metadata": {
    "collapsed": false,
    "jupyter": {
     "outputs_hidden": false
    },
    "pycharm": {
     "is_executing": true,
     "name": "#%%\n"
    }
   },
   "outputs": [
    {
     "data": {
      "text/plain": [
       "Text(0.5, 0, 'Feature (CV)')"
      ]
     },
     "execution_count": 14,
     "metadata": {},
     "output_type": "execute_result"
    },
    {
     "data": {
      "image/png": "[encoded data removed]",
      "text/plain": [
       "<Figure size 432x288 with 1 Axes>"
      ]
     },
     "metadata": {
      "needs_background": "light"
     },
     "output_type": "display_data"
    }
   ],
   "source": [
    "plt.figure()\n",
    "plt.title(\"MLTSA - MLP\")\n",
    "plt.plot(adrop[0])\n",
    "plt.ylabel(\"Accuracy\")\n",
    "plt.xlabel(\"Feature (CV)\")"
   ]
  },
  {
   "cell_type": "code",
   "execution_count": null,
   "metadata": {
    "collapsed": false,
    "jupyter": {
     "outputs_hidden": false
    },
    "pycharm": {
     "name": "#%%\n"
    }
   },
   "outputs": [],
   "source": []
  },
  {
   "cell_type": "code",
   "execution_count": null,
   "metadata": {
    "collapsed": false,
    "jupyter": {
     "outputs_hidden": false
    },
    "pycharm": {
     "name": "#%%\n"
    }
   },
   "outputs": [],
   "source": []
  },
  {
   "cell_type": "code",
   "execution_count": null,
   "metadata": {
    "collapsed": false,
    "jupyter": {
     "outputs_hidden": false
    },
    "pycharm": {
     "name": "#%%\n"
    }
   },
   "outputs": [],
   "source": []
  },
  {
   "cell_type": "code",
   "execution_count": null,
   "metadata": {
    "collapsed": false,
    "jupyter": {
     "outputs_hidden": false
    },
    "pycharm": {
     "name": "#%%\n"
    }
   },
   "outputs": [],
   "source": [
    "#obj = CVclass(n_features)"
   ]
  },
  {
   "cell_type": "markdown",
   "metadata": {
    "pycharm": {
     "name": "#%% md\n"
    }
   },
   "source": []
  }
 ],
 "metadata": {
  "kernelspec": {
   "display_name": "Python 3.8.10 64-bit",
   "language": "python",
   "name": "python3"
  },
  "language_info": {
   "codemirror_mode": {
    "name": "ipython",
    "version": 3
   },
   "file_extension": ".py",
   "mimetype": "text/x-python",
   "name": "python",
   "nbconvert_exporter": "python",
   "pygments_lexer": "ipython3",
   "version": "3.8.10"
  },
  "stem_cell": {
   "cell_type": "raw",
   "metadata": {
    "pycharm": {
     "metadata": false
    }
   },
   "source": ""
  },
  "vscode": {
   "interpreter": {
    "hash": "31f2aee4e71d21fbe5cf8b01ff0e069b9275f58929596ceb00d14d90e3e16cd6"
   }
  }
 },
 "nbformat": 4,
 "nbformat_minor": 4
}
