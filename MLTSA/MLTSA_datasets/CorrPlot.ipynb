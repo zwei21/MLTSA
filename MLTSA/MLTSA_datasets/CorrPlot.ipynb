{
 "cells": [
  {
   "cell_type": "code",
   "execution_count": 21,
   "metadata": {},
   "outputs": [],
   "source": [
    "def CorrPlot(scoreA, scoreB, topN=10, isDrop=True, fullRank=True):\n",
    "    \"\"\"CorrPlot showing the correlation between two scoring method to one dataframe\n",
    "\n",
    "    :param scoreA: dataA input as score of some criteria\n",
    "    :type scoreA: numpy.array\n",
    "    :param scoreB: dataB input as score of some criteria, could be drop(see isDrop)\n",
    "    :type scoreB: numpy.ndarray\n",
    "    :param topN: Number of top items of each input data to be count in the plot, defaults to 10\n",
    "    :type topN: int, optional\n",
    "    :param isDrop: indeicating the scoreB a score of drop of not, defaults to True, \\\n",
    "        if it is drop then the data would be processed by 1-socreB\n",
    "    :type isDrop: bool, optional\n",
    "    :param fullRank: show the full range of each group's top items or not, defaults to True\n",
    "    :type fullRank: bool, optional\n",
    "    :return: None\n",
    "    :rtype: None\n",
    "    \"\"\"    \n",
    "    import matplotlib.pyplot as plt\n",
    "    import numpy as np\n",
    "    num = topN\n",
    "    # Data preprocessing\n",
    "    #- Validation -#\n",
    "    assert len(scoreA) == len(scoreB),\\\n",
    "         \"Data input should have same dimension\"\n",
    "    #- Normalization -#\n",
    "    def normalization(data):\n",
    "        _range = np.max(data) - np.min(data)\n",
    "        return (data - np.min(data)) / _range\n",
    "    \n",
    "    x = np.arange(len(scoreA))\n",
    "    y = normalization(scoreA)\n",
    "    z = normalization(scoreB)\n",
    "    \n",
    "    # Adding a fixed dimension which length is same as above inputs\n",
    "    fix_value = []\n",
    "    # Calculate data y and data z's maximum, take 1/4 of it as the fixed width of bar\n",
    "    value_max = max(max(y), max(z))\n",
    "    fix_temp = value_max / 4\n",
    "    for i in range(len(x)):\n",
    "        fix_value.append(fix_temp)\n",
    "    # Trun z into negativa value (here if z is adrop, would calculate it by subtracting from 1)\n",
    "    if isDrop:\n",
    "        z_ne = [zs - 1 for zs in z]\n",
    "    else:\n",
    "        z_ne = [-zs for zs in z]\n",
    "\n",
    "    # Set text front size to be 12\n",
    "    plt.rcParams['font.size'] = 12\n",
    "    # Set figsize to make layout better\n",
    "    plt.figure(figsize=(15, 8))\n",
    "    # Draw the bars, set the color and bar width, plot fix_value, y, and z_ne into the frame\n",
    "    plt.bar(x, fix_value, color='w', width=0.5)\n",
    "    plt.bar(x, y, bottom=fix_value, color='#037171', label='RelevanceScore(%)', width=0.5)\n",
    "    plt.bar(x, z_ne, color='#FF474A', width=0.5, label='AccuracyDrop(%)')\n",
    "    \n",
    "    # Adding data label, plot the x axis of common top items for both group\n",
    "\n",
    "    # Process the data to find common tops\n",
    "    top_y = np.argsort(y)[-num:] # Top 15 Relevance Score, reverse to find the tops\n",
    "    top_z = np.argsort(z)[:num] # Top 15 Accuracy Drop, negative since measuring the drop\n",
    "    # Find the common terms\n",
    "    top_com = []\n",
    "    for index in top_y:\n",
    "        if index in top_z:\n",
    "            top_com.append(index)\n",
    "    \n",
    "    # Plot those tops\n",
    "    for a, b in zip(top_com, fix_value):\n",
    "        plt.text(a, b/2, '%s' % str(a), ha='center', va='center', fontsize=12)\n",
    "    for a, b in zip(top_com, top_com):\n",
    "        plt.text(a, y[b] + fix_temp + value_max / 20, \"{:.2f}\".format(scoreA[b]*100), ha='center', va='center')\n",
    "    for a, b in zip(top_com, top_com):\n",
    "        plt.text(a, z_ne[b] - value_max / 20, \"{:.2f}\".format((scoreB*100)[b]), ha='center', va='center')\n",
    "    if fullRank:\n",
    "        for index in top_y:\n",
    "            if index not in top_com:\n",
    "                plt.text(index, y[index] + fix_temp + value_max / 20, \"{:.2f}\".format(scoreA[index]*100),\\\n",
    "                        ha='center', va='center', color='grey')\n",
    "        for index in top_z:\n",
    "            if index not in top_com:\n",
    "                plt.text(index, (z-1)[index] - value_max / 20, \"{:.2f}\".format((scoreB*100)[index]),\\\n",
    "                        ha='center', va='center', color='grey')\n",
    "    # Hide the y_ticks of plot (Since the data is normalized and reversed)\n",
    "    plt.yticks([])\n",
    "    # Add legend, set the position manually\n",
    "    plt.legend(bbox_to_anchor=(-0.02, 0.5), frameon=False)\n",
    "    # Add title and bold the title\n",
    "    plt.title(label='RelevanceScore vs. AccuracyDrop', fontsize=14, fontweight='bold')\n",
    "    # Set the frame of plotting area invisible\n",
    "    ax = plt.gca()\n",
    "    ax.set_axisbelow(True)\n",
    "    [ax.spines[loc_axis].set_visible(False) for loc_axis in ['bottom', 'top', 'right', 'left']]\n",
    "    # Show the plot\n",
    "    plt.show()\n",
    "\n"
   ]
  },
  {
   "cell_type": "code",
   "execution_count": 7,
   "metadata": {},
   "outputs": [],
   "source": [
    "test_z = [1,2,3]"
   ]
  },
  {
   "cell_type": "code",
   "execution_count": 8,
   "metadata": {},
   "outputs": [
    {
     "name": "stdout",
     "output_type": "stream",
     "text": [
      "[0, 1, 2]\n"
     ]
    }
   ],
   "source": [
    "z_ne = [zs - 1 for zs in test_z]\n",
    "print(z_ne)"
   ]
  },
  {
   "cell_type": "code",
   "execution_count": 23,
   "metadata": {},
   "outputs": [
    {
     "data": {
      "image/png": "[encoded data removed]",
      "text/plain": [
       "<Figure size 1080x576 with 1 Axes>"
      ]
     },
     "metadata": {
      "needs_background": "light"
     },
     "output_type": "display_data"
    }
   ],
   "source": [
    "import numpy as np\n",
    "dataA = np.random.rand(100)\n",
    "dataB = np.random.rand(100)\n",
    "\n",
    "CorrPlot(dataA, dataB, topN=10, isDrop=True, fullRank=True)"
   ]
  },
  {
   "cell_type": "code",
   "execution_count": null,
   "metadata": {},
   "outputs": [],
   "source": []
  }
 ],
 "metadata": {
  "kernelspec": {
   "display_name": "Python 3.8.9 64-bit",
   "language": "python",
   "name": "python3"
  },
  "language_info": {
   "codemirror_mode": {
    "name": "ipython",
    "version": 3
   },
   "file_extension": ".py",
   "mimetype": "text/x-python",
   "name": "python",
   "nbconvert_exporter": "python",
   "pygments_lexer": "ipython3",
   "version": "3.8.10"
  },
  "orig_nbformat": 4,
  "vscode": {
   "interpreter": {
    "hash": "31f2aee4e71d21fbe5cf8b01ff0e069b9275f58929596ceb00d14d90e3e16cd6"
   }
  }
 },
 "nbformat": 4,
 "nbformat_minor": 2
}
